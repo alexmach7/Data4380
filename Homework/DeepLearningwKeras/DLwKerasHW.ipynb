{
 "cells": [
  {
   "cell_type": "code",
   "execution_count": 1,
   "id": "d35b83b1",
   "metadata": {},
   "outputs": [],
   "source": [
    "import os"
   ]
  },
  {
   "cell_type": "code",
   "execution_count": 2,
   "id": "b6b4e3d3",
   "metadata": {},
   "outputs": [
    {
     "name": "stdout",
     "output_type": "stream",
     "text": [
      "current working directory: C:\\Users\\aemsh\\Desktop\\DATA4380\\Work\n"
     ]
    }
   ],
   "source": [
    "current_directory= os.getcwd()\n",
    "\n",
    "print('current working directory:', current_directory)"
   ]
  },
  {
   "cell_type": "code",
   "execution_count": 5,
   "id": "470437a7",
   "metadata": {},
   "outputs": [
    {
     "name": "stdout",
     "output_type": "stream",
     "text": [
      "Original shape: (76020, 371)\n",
      "Filtered shape: (76020, 337)\n"
     ]
    }
   ],
   "source": [
    "import pandas as pd\n",
    "import data_cleaning\n",
    "import opendatasets as od\n",
    "import pandas as pd\n",
    "import zipfile\n",
    "import numpy as np\n",
    "from sklearn.decomposition import PCA\n",
    "from sklearn.preprocessing import StandardScaler\n",
    "from sklearn.decomposition import IncrementalPCA\n",
    "import matplotlib\n",
    "from matplotlib import pyplot as plt\n",
    "from sklearn.linear_model import LinearRegression\n",
    "from sklearn.metrics import mean_squared_error, r2_score\n",
    "import matplotlib.pyplot as plt\n",
    "from sklearn.model_selection import train_test_split\n",
    "from sklearn.ensemble import RandomForestClassifier\n",
    "from sklearn.metrics import classification_report\n",
    "from sklearn.utils.class_weight import compute_class_weight\n",
    "\n",
    "# Load your dataset\n",
    "csv_file = 'C:/Users/aemsh/Desktop/DATA4380/santander-customer-satisfaction/train.csv'\n",
    "df = pd.read_csv(csv_file)\n",
    "\n",
    "#df = pd.read_csv('your_dataset.csv')\n",
    "\n",
    "# Apply cleaning functions\n",
    "df = data_cleaning.filter_nonzero_columns(df)\n",
    "df = data_cleaning.remove_id_column(df)\n",
    "df = data_cleaning.remove_outliers_zscore(df)"
   ]
  },
  {
   "cell_type": "code",
   "execution_count": 6,
   "id": "5080a97a",
   "metadata": {},
   "outputs": [],
   "source": [
    "X = df.drop('TARGET', axis=1)\n",
    "y = df['TARGET']\n",
    "\n",
    "# Split to train and test\n",
    "X_train, X_test, y_train, y_test = train_test_split(X, y, test_size=0.2, random_state=42)"
   ]
  },
  {
   "cell_type": "code",
   "execution_count": 7,
   "id": "4a668995",
   "metadata": {},
   "outputs": [
    {
     "name": "stdout",
     "output_type": "stream",
     "text": [
      "              precision    recall  f1-score   support\n",
      "\n",
      "           0       0.96      0.97      0.97     11899\n",
      "           1       0.14      0.11      0.12       495\n",
      "\n",
      "    accuracy                           0.94     12394\n",
      "   macro avg       0.55      0.54      0.54     12394\n",
      "weighted avg       0.93      0.94      0.93     12394\n",
      "\n"
     ]
    }
   ],
   "source": [
    "# Define class weights\n",
    "# Balanced automatically computes weight inversely proportional to class frequencies in the input data\n",
    "class_weights = compute_class_weight('balanced', classes=[0, 1], y=y_train)\n",
    "\n",
    "# initialize with class weights\n",
    "model = RandomForestClassifier(class_weight={0: class_weights[0], 1: class_weights[1]})\n",
    "\n",
    "# train\n",
    "model.fit(X_train, y_train)\n",
    "\n",
    "# evauate\n",
    "y_pred = model.predict(X_test)\n",
    "print(classification_report(y_test, y_pred))"
   ]
  },
  {
   "cell_type": "code",
   "execution_count": null,
   "id": "7dad6b19",
   "metadata": {},
   "outputs": [],
   "source": []
  }
 ],
 "metadata": {
  "kernelspec": {
   "display_name": "Python 3 (ipykernel)",
   "language": "python",
   "name": "python3"
  },
  "language_info": {
   "codemirror_mode": {
    "name": "ipython",
    "version": 3
   },
   "file_extension": ".py",
   "mimetype": "text/x-python",
   "name": "python",
   "nbconvert_exporter": "python",
   "pygments_lexer": "ipython3",
   "version": "3.9.13"
  }
 },
 "nbformat": 4,
 "nbformat_minor": 5
}
